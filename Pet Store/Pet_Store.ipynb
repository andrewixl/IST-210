{
  "nbformat": 4,
  "nbformat_minor": 0,
  "metadata": {
    "colab": {
      "name": "Pet Store.ipynb",
      "provenance": [],
      "collapsed_sections": [],
      "authorship_tag": "ABX9TyMYt5f8HQOeWM7ld0tL8XXS",
      "include_colab_link": true
    },
    "kernelspec": {
      "name": "python3",
      "display_name": "Python 3"
    }
  },
  "cells": [
    {
      "cell_type": "markdown",
      "metadata": {
        "id": "view-in-github",
        "colab_type": "text"
      },
      "source": [
        "<a href=\"https://colab.research.google.com/github/andrewixl/IST-210/blob/master/Pet%20Store/Pet_Store.ipynb\" target=\"_parent\"><img src=\"https://colab.research.google.com/assets/colab-badge.svg\" alt=\"Open In Colab\"/></a>"
      ]
    },
    {
      "cell_type": "markdown",
      "metadata": {
        "id": "8NBuguO5TlOr",
        "colab_type": "text"
      },
      "source": [
        "##**Lab 2: Pet Shop ER Diagram**\n",
        "###Overall:\n",
        "When working for a pet store my main goal was making sure to consider as much information as possible that could be used depending on the implementation ranging from a website, POS, or a simple mobile application. \n",
        "###Enclosure Table:\n",
        "The first thing I worked on is the enclosure table. Having a unique ID then certain attributes such as environment (wet/dry), temperature, and whether it is inhabited currently. These I found useful to potentially automate the enclosure with profiles for animals. \n",
        "###Pet and Food Tables:\n",
        "Next came pets and food tables. These are both items that can be purchased by customers. Each required their own unique either UPC or Pet ID as well as a range of attributes to identify the products or animals. These attributes are useful in catalogs or online webpages to keep track of inventory.\n",
        "For pets I had two foreign keys: enclosure and food. Pets have one enclosure, but an enclosure can have many pets (one to many). In addition, pets can have many types of food, but also food can feed many different pets (many to many). For the food I had one foreign key which was pets which as previously mentioned, food can feed many pets, but pets can eat many different types of food (one to many)\n",
        "###Customer Table:\n",
        "Next for the customer, since the pet store has a rewards program, I used the rewards number as the customers primary key. The additional attributes are secondary keys which can help identify a customer if they forgot their number.\n",
        "###Food and Pet Purchase Tables:\n",
        "Finally, for the Food and Purchase Tables, these are virtually the same besides one of the foreign keys used. For the primary key I used an order number which can be used to identify the purchase.\n",
        "For the first foreign key, the customer can have many purchases, but the purchase cannot have many customer (one to many). This foreign key can allow for shipping food items, as well as contacting the owner about a pet they purchase. As for the UPC or Pet ID, this is used to identify the food or pet purchased during this order. A pet or food can only be purchased once, but a purchase can contain many pets or many foods (one to many).\n",
        "###Extra:\n",
        "In addition each table contains a created at and updated at date time field which is key for keeping logs of changes made in the system as well as keep track of orders and automation.\n",
        "##**ER Diagram:**\n",
        "![alt text](https://github.com/andrewixl/IST-210/blob/master/Pet%20Store/Capture.PNG?raw=true)\n"
      ]
    }
  ]
}