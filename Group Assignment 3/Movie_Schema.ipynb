{
  "nbformat": 4,
  "nbformat_minor": 0,
  "metadata": {
    "colab": {
      "name": "Movie Schema.ipynb",
      "provenance": [],
      "collapsed_sections": [],
      "include_colab_link": true
    },
    "kernelspec": {
      "name": "python3",
      "display_name": "Python 3"
    }
  },
  "cells": [
    {
      "cell_type": "markdown",
      "metadata": {
        "id": "view-in-github",
        "colab_type": "text"
      },
      "source": [
        "<a href=\"https://colab.research.google.com/github/andrewixl/IST-210/blob/master/Group%20Assignment%203/Movie_Schema.ipynb\" target=\"_parent\"><img src=\"https://colab.research.google.com/assets/colab-badge.svg\" alt=\"Open In Colab\"/></a>"
      ]
    },
    {
      "cell_type": "markdown",
      "metadata": {
        "id": "gLQczzT5_Yee",
        "colab_type": "text"
      },
      "source": [
        "## Final Project\n",
        "### Movie Schema - Andrew Burger, Abbey Lyle, Dean Swanson, Rajiv Thummala"
      ]
    },
    {
      "cell_type": "markdown",
      "metadata": {
        "id": "NIVcDk3E_8RW",
        "colab_type": "text"
      },
      "source": [
        "### Introduction\n",
        "Our Database is about movie rentals through kiosks located in front of stores and will manage a store’s movie rentals day to day from inventory to rentals, and customers with their fees. It is an automated system that can fully be used to make a transactional service at a movie rental store through digital means such as a POS system.The goal is to track movie rental kiosks and their slots, movies, genres, technicians, customers, and the transactions. The database can be used to form a system such as the movie rental process which exists at establishments such as Red Box.There are similar aspects such that were used in movie rental stores in the previous years, the most current and widely used example that is similar, is a library checkout system. Customers can check in and checkout movies with or without the need of a cashier depending on the medium the database is used allowing for management with ease. We first started our idea for this project as a store but then moved towards kiosks as they are widely used across the U.S. today rather than rental stores."
      ]
    },
    {
      "cell_type": "markdown",
      "metadata": {
        "id": "f6bFDJBjDevR",
        "colab_type": "text"
      },
      "source": [
        "![alt text](https://github.com/rkt5192/IST-210-/blob/master/ERDIAGRAMFINAL.png?raw=true)"
      ]
    },
    {
      "cell_type": "markdown",
      "metadata": {
        "id": "hq2nSxtqARk6",
        "colab_type": "text"
      },
      "source": [
        "### Specifics about our ER Diagram\n",
        "Our ER Diagram includes five tables: a kiosk table, slot table, movie table, customer table, and a transaction table. The kiosk table includes the kiosk ID, which acts as a unique identifier and primary key. The attributes present in the kiosk table are the technician ID, tax information, and location components. The slot table has a slot ID as the primary key which is unique for every slot location, it also includes the kiosk ID as a foreign key. The movie table’s primary key is movie ID, and the attributes include: kiosk ID, slot ID, genre ID, title, screen time, release date, inventory, date of creation, and updated at. The customer tables primary key is customer account email and its attributes include customer account email, customer account password, first name, last name, phone number, fees, movie ID, Rewards points, Created at, and updated at. The transaction tables primary key is transaction ID. Its attributes include kiosk ID, customer ID, movie ID, number of nights, payment method, payment amount, created at, and updated at."
      ]
    },
    {
      "cell_type": "markdown",
      "metadata": {
        "id": "xJVPloPVAZ0l",
        "colab_type": "text"
      },
      "source": [
        "### How we Created our Tables\n",
        "The first way we started to create our tables for our database is to think of ways to organize information within a store’s kiosk and the information that goes into when a customer walks up to the kiosk, puts their information in, picks their movie, pays for it, and finally the machine vends the movie. Each part of the process collects information that is stored in the database and later can be queried. We made tables based upon this process starting with one for a kiosk table, slots for movies table, movies table, customer table, and finally transaction table. After we had the tables, we had to think about the data associated with each table. For example, the company who owns the kiosk needs to know the kiosk’s ID, address broken down into city state and zip code, the technician who works on the kiosk, and when it has been updated most recently. We needed to make sure that each piece of the process of renting a movie from a store’s kiosk is represented and contains the data that is being recorded at every step.\n"
      ]
    },
    {
      "cell_type": "markdown",
      "metadata": {
        "id": "GTHMmkiVAhal",
        "colab_type": "text"
      },
      "source": [
        "### Our Code"
      ]
    },
    {
      "cell_type": "code",
      "metadata": {
        "id": "VnnCs4v_kF7x",
        "colab_type": "code",
        "outputId": "43d12449-ed68-4fa2-8eeb-92d521c42850",
        "colab": {
          "base_uri": "https://localhost:8080/",
          "height": 34
        }
      },
      "source": [
        "%load_ext sql\n",
        "%sql sqlite:///movieManagementDatabase.db\n"
      ],
      "execution_count": 2,
      "outputs": [
        {
          "output_type": "execute_result",
          "data": {
            "text/plain": [
              "'Connected: @movieManagementDatabase.db'"
            ]
          },
          "metadata": {
            "tags": []
          },
          "execution_count": 2
        }
      ]
    },
    {
      "cell_type": "code",
      "metadata": {
        "id": "g_eb9WiZlQxv",
        "colab_type": "code",
        "outputId": "6591ced3-3fc2-41f4-a8f0-d459b8530b0b",
        "colab": {
          "base_uri": "https://localhost:8080/",
          "height": 816
        }
      },
      "source": [
        "%%sql\n",
        "\n",
        "DROP TABLE IF EXISTS Kiosk;\n",
        "CREATE TABLE Kiosk (kioskId text primary key, address text, city text, state text, postalCode text, tax real, created_at text, updated_at text);\n",
        "\n",
        "INSERT into Kiosk values (\"k1\", \"526 228th Ave NE\", \"Sammamish\", \"WA\", \"98075\", 0.10, \"2020-04-27 02:14:34\", \"2020-04-27 02:14:34\");\n",
        "INSERT into Kiosk values (\"k2\", \"630 228th Ave NE\", \"Sammamish\", \"WA\", \"98075\", 0.10, \"2020-04-27 02:14:34\", \"2020-04-27 02:14:34\");\n",
        "INSERT into Kiosk values (\"k3\", \"2936 228th Ave SE\", \"Sammamish\", \"WA\", \"98075\", 0.10, \"2020-04-27 02:14:34\", \"2020-04-27 02:14:34\");\n",
        "INSERT into Kiosk values (\"k4\", \"2902 228th Ave SE\", \"Issaquah\", \"WA\", \"98075\", 0.10, \"2020-04-27 02:14:34\", \"2020-04-27 02:14:34\");\n",
        "INSERT into Kiosk values (\"k5\", \"4570 Klahanie Dr SE\", \"Issaquah\", \"WA\", \"98075\", 0.10, \"2020-04-27 02:14:34\", \"2020-04-27 02:14:34\");\n",
        "\n",
        "DROP TABLE IF EXISTS Slot;\n",
        "CREATE TABLE Slot (slotId int primary key, kioskId text, created_at text, updated_at text);\n",
        "\n",
        "INSERT into Slot values (1.1, \"k1\", \"2020-04-27 02:14:34\", \"2020-04-27 02:14:34\");\n",
        "INSERT into Slot values (1.2, \"k1\", \"2020-04-27 02:14:34\", \"2020-04-27 02:14:34\");\n",
        "INSERT into Slot values (2.1, \"k2\", \"2020-04-27 02:14:34\", \"2020-04-27 02:14:34\");\n",
        "INSERT into Slot values (2.2, \"k2\", \"2020-04-27 02:14:34\", \"2020-04-27 02:14:34\");\n",
        "INSERT into Slot values (3.1, \"k3\", \"2020-04-27 02:14:34\", \"2020-04-27 02:14:34\");\n",
        "INSERT into Slot values (3.2, \"k3\", \"2020-04-27 02:14:34\", \"2020-04-27 02:14:34\");\n",
        "INSERT into Slot values (4.1, \"k4\", \"2020-04-27 02:14:34\", \"2020-04-27 02:14:34\");\n",
        "INSERT into Slot values (4.2, \"k4\", \"2020-04-27 02:14:34\", \"2020-04-27 02:14:34\");\n",
        "INSERT into Slot values (5.1, \"k5\", \"2020-04-27 02:14:34\", \"2020-04-27 02:14:34\");\n",
        "INSERT into Slot values (5.2, \"k5\", \"2020-04-27 02:14:34\", \"2020-04-27 02:14:34\");\n",
        "\n",
        "DROP TABLE IF EXISTS Movie;\n",
        "CREATE TABLE Movie (movieId int primary key, slotId int, kioskId text, title text, genre text, screenTime int, releaseDate text, inventory int, created_at text, updated_at text);\n",
        "\n",
        "INSERT into Movie values (1,  1.1, \"k1\", \"Back to the Future\", \"Sci-Fi\", 116, \"1985\", 1, \"2020-04-27 02:14:34\", \"2020-04-27 02:14:34\");\n",
        "INSERT into Movie values (2,  1.2, \"k1\", \"Inception\", \"Sci-Fi\", 148, \"2010\", 1, \"2020-04-27 02:14:34\", \"2020-04-27 02:14:34\");\n",
        "INSERT into Movie values (3,  2.1, \"k2\", \"The Karate Kid\", \"Drama\", 127, \"1984\", 1, \"2020-04-27 02:14:34\", \"2020-04-27 02:14:34\");\n",
        "INSERT into Movie values (4,  2.2, \"k2\", \"I Am Legend\", \"Horror\", 104, \"2007\", 1, \"2020-04-27 02:14:34\", \"2020-04-27 02:14:34\");\n",
        "INSERT into Movie values (5,  3.1, \"k3\", \"I, Robot\", \"Action\", 115, \"2004\", 1, \"2020-04-27 02:14:34\", \"2020-04-27 02:14:34\");\n",
        "INSERT into Movie values (6,  3.2, \"k3\", \"Catch Me If You Can\", \"Crime\", 141, \"2002\", 1, \"2020-04-27 02:14:34\", \"2020-04-27 02:14:34\");\n",
        "INSERT into Movie values (7,  4.1, \"k4\", \"Jumanji\", \"Adventure\", 104, \"1995\", 1, \"2020-04-27 02:14:34\", \"2020-04-27 02:14:34\");\n",
        "INSERT into Movie values (8,  4.2, \"k4\", \"Independance Day\", \"Sci-Fi\", 153, \"1996\", 1, \"2020-04-27 02:14:34\", \"2020-04-27 02:14:34\");\n",
        "INSERT into Movie values (9,  5.1, \"k5\", \"The Matrix\", \"Action\", 150, \"1999\", 1, \"2020-04-27 02:14:34\", \"2020-04-27 02:14:34\");\n",
        "INSERT into Movie values (10, 5.1, \"k5\", \"Spider-Man\", \"Action\", 121, \"2002\", 1, \"2020-04-27 02:14:34\", \"2020-04-27 02:14:34\");\n",
        "\n",
        "DROP TABLE IF EXISTS Customer;\n",
        "CREATE TABLE Customer (email text primary key, password text, firstName text, lastName text, phoneNumber text, fees real, rewardPoints int, movieId int, created_at text, updated_at text);\n",
        "\n",
        "INSERT into Customer values (\"ab@psu.edu\", \"h342h$KJ#DJj43\", \"Andrew\", \"Burger\", \"8145678459\", 0.00, 79, 2, \"2020-04-27 02:14:34\", \"2020-04-27 02:14:34\");\n",
        "INSERT into Customer values (\"al@psu.edu\", \"h342h$KJ#DJj43\", \"Abbey\", \"Lyle\", \"8145678459\", 1.30, 92, 5, \"2020-04-27 02:14:34\", \"2020-04-27 02:14:34\");       \n",
        "INSERT into Customer values (\"ds@psu.edu\", \"h342h$KJ#DJj43\", \"Dean\", \"Swanson\", \"8145678459\", 0.40, 39, 4, \"2020-04-27 02:14:34\", \"2020-04-27 02:14:34\"); \n",
        "INSERT into Customer values (\"rt@psu.edu\", \"h342h$KJ#DJj43\", \"Rajiv\", \"Thummala\", \"8145678459\", 3.40, 99, 1, \"2020-04-27 02:14:34\", \"2020-04-27 02:14:34\");                     \n",
        "INSERT into Customer values (\"sd@psu.edu\", \"h342h$KJ#DJj43\", \"Samantha\", \"Dearolf\", \"8145678459\", 0.00, 69, 6, \"2020-04-27 02:14:34\", \"2020-04-27 02:14:34\");\n",
        "\n",
        "DROP TABLE IF EXISTS Transactions;\n",
        "CREATE TABLE Transactions (transactionId int primary key,  kioskId text, movieId int, customerId text, nightsRented int, paymentMethod text, paymentAmount real, created_at text, updated_at text);\n",
        "\n",
        "INSERT into Transactions values (\"00001\", \"k1\", 3, \"ab@psu.edu\", 8, \"VISA\", 8.95, \"2020-04-27 02:14:34\", \"2020-04-27 02:14:34\");\n",
        "INSERT into Transactions values (\"00002\", \"k2\", 1, \"al@psu.edu\", 2, \"MasterCard\", 2.95, \"2020-04-27 02:14:34\", \"2020-04-27 02:14:34\");\n",
        "INSERT into Transactions values (\"00003\", \"k3\", 5, \"ds@psu.edu\", 3, \"American Express\", 3.95, \"2020-04-27 02:14:34\", \"2020-04-27 02:14:34\");\n",
        "INSERT into Transactions values (\"00004\", \"k4\", 2, \"rt@psu.edu\", 5, \"Discover\", 5.95, \"2020-04-27 02:14:34\", \"2020-04-27 02:14:34\");\n",
        "INSERT into Transactions values (\"00005\", \"k5\", 4, \"sd@psu.edu\", 7, \"Maestro\", 7.95, \"2020-04-27 02:14:34\", \"2020-04-27 02:14:34\");\n"
      ],
      "execution_count": 10,
      "outputs": [
        {
          "output_type": "stream",
          "text": [
            " * sqlite:///movieManagementDatabase.db\n",
            "Done.\n",
            "Done.\n",
            "1 rows affected.\n",
            "1 rows affected.\n",
            "1 rows affected.\n",
            "1 rows affected.\n",
            "1 rows affected.\n",
            "Done.\n",
            "Done.\n",
            "1 rows affected.\n",
            "1 rows affected.\n",
            "1 rows affected.\n",
            "1 rows affected.\n",
            "1 rows affected.\n",
            "1 rows affected.\n",
            "1 rows affected.\n",
            "1 rows affected.\n",
            "1 rows affected.\n",
            "1 rows affected.\n",
            "Done.\n",
            "Done.\n",
            "1 rows affected.\n",
            "1 rows affected.\n",
            "1 rows affected.\n",
            "1 rows affected.\n",
            "1 rows affected.\n",
            "1 rows affected.\n",
            "1 rows affected.\n",
            "1 rows affected.\n",
            "1 rows affected.\n",
            "1 rows affected.\n",
            "Done.\n",
            "Done.\n",
            "1 rows affected.\n",
            "1 rows affected.\n",
            "1 rows affected.\n",
            "1 rows affected.\n",
            "1 rows affected.\n",
            "Done.\n",
            "Done.\n",
            "1 rows affected.\n",
            "1 rows affected.\n",
            "1 rows affected.\n",
            "1 rows affected.\n",
            "1 rows affected.\n"
          ],
          "name": "stdout"
        },
        {
          "output_type": "execute_result",
          "data": {
            "text/plain": [
              "[]"
            ]
          },
          "metadata": {
            "tags": []
          },
          "execution_count": 10
        }
      ]
    },
    {
      "cell_type": "markdown",
      "metadata": {
        "id": "pGcjY39iA3Hn",
        "colab_type": "text"
      },
      "source": [
        "### Scenario\n",
        "Our rental box service provides customers with the ability to rent any film they would like through one of our kiosks stationed across the country. If it is your first time utilizing the kiosk, you must create an account where you must provide basic information about yourself such as payment method, address, name, email, and phone number. After you finish creating your account, you may either search for a movie through different attributes such as genre or name. In addition, you may select a specific genre you would like to pick from and browse the films in that section. Once the movie has been selected, you must authorize your payment information and the film will come out of the slot it is in. You may then pick up the movie from the pickup slot along with the receipt which mentions when the return date is of the film and other data such as payment information and date of rental. "
      ]
    },
    {
      "cell_type": "markdown",
      "metadata": {
        "id": "Zwqaj4M5A7Wu",
        "colab_type": "text"
      },
      "source": [
        "### Query 1\n",
        "As the owners of the kiosk management systems, we want to be able to see who our most loyal customers are based on their accumulated amount of reward points. We want to send them a “thank you” email for being loyal customers to our business. \n",
        "\n",
        "\tSELECT firstName, lastName, email, rewardPoints FROM Customer ORDER BY rewardPoints DESC\n",
        "### Query 2\n",
        "When evaluating our performance with the kiosks, we will want to be able to view which kiosks are the most popular. We will make this determination based off of the payment amounts made in each transaction specific to different kiosks.\n",
        "\n",
        "\tSELECT kioskID, SUM(paymentAmount) FROM Transactions GROUP BY kioskID\n",
        "### Query 3\n",
        "When restocking most of the kiosks with new movies, we would like to tailor each kiosk to that area with the most popular movie by rentals per kiosk. This way we are able to give our customers more options to rent that new movie.\n",
        "  \n",
        "  SELECT MovieID, KioskID, nightsRented FROM Transactions ORDER BY nightsRented\n",
        "\n"
      ]
    }
  ]
}