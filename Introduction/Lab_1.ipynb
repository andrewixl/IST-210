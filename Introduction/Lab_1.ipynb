{
  "nbformat": 4,
  "nbformat_minor": 0,
  "metadata": {
    "colab": {
      "name": "Lab 1.ipynb",
      "provenance": [],
      "collapsed_sections": [],
      "authorship_tag": "ABX9TyPhdAohM2Ixr6nMxE8rEDZ+",
      "include_colab_link": true
    },
    "kernelspec": {
      "name": "python3",
      "display_name": "Python 3"
    }
  },
  "cells": [
    {
      "cell_type": "markdown",
      "metadata": {
        "id": "view-in-github",
        "colab_type": "text"
      },
      "source": [
        "<a href=\"https://colab.research.google.com/github/andrewixl/IST-210/blob/master/Introduction/Lab_1.ipynb\" target=\"_parent\"><img src=\"https://colab.research.google.com/assets/colab-badge.svg\" alt=\"Open In Colab\"/></a>"
      ]
    },
    {
      "cell_type": "markdown",
      "metadata": {
        "id": "hyMUWN_fzFWg",
        "colab_type": "text"
      },
      "source": [
        "###Name\n",
        "    - Andrew Burger\n",
        "###IST Related Interests\n",
        "    - Windows Server\n",
        "    - User Integration\n",
        "    - Website Design\n",
        "###Future Job/Career\n",
        "    - System Administrator\n",
        "###Profile Picture"
      ]
    },
    {
      "cell_type": "markdown",
      "metadata": {
        "id": "wxwNmJy_yvEW",
        "colab_type": "text"
      },
      "source": [
        "![alt text](https://raw.githubusercontent.com/andrewixl/IST-210/master/Introduction/2017-09-23%2011.13.49%201.jpg\n",
        ")"
      ]
    }
  ]
}