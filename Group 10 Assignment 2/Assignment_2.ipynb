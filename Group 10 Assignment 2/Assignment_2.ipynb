{
  "nbformat": 4,
  "nbformat_minor": 0,
  "metadata": {
    "colab": {
      "name": "Assignment 2.ipynb",
      "provenance": [],
      "collapsed_sections": [],
      "authorship_tag": "ABX9TyM1uClKsav9x19ISaJFYvzT",
      "include_colab_link": true
    },
    "kernelspec": {
      "name": "python3",
      "display_name": "Python 3"
    }
  },
  "cells": [
    {
      "cell_type": "markdown",
      "metadata": {
        "id": "view-in-github",
        "colab_type": "text"
      },
      "source": [
        "<a href=\"https://colab.research.google.com/github/andrewixl/IST-210/blob/master/Group%2010%20Assignment%202/Assignment_2.ipynb\" target=\"_parent\"><img src=\"https://colab.research.google.com/assets/colab-badge.svg\" alt=\"Open In Colab\"/></a>"
      ]
    },
    {
      "cell_type": "markdown",
      "metadata": {
        "id": "mZ1R8X0qDEWV",
        "colab_type": "text"
      },
      "source": [
        "###ER Diagram\n",
        "![alt text](https://github.com/andrewixl/IST-210/blob/master/Group%2010%20Assignment%202/Movie%20Diagram.png?raw=true)\n",
        "\n",
        "###Description\n",
        "The goal of the database is to track movie rental kiosks and their slots, movies, genres, technicians, customers, and the transactions. The database can be used to form a system such as the movie rental process which exists at establishments such as Red Box.\n",
        "\n",
        "The kiosk table includes the kiosk ID, which acts as a unique identifier and primary key. The attributes present in the kiosk table are the technician ID, tax information, and location components such as; address, state, and postal code.The relationship between the technician and kiosk is a one-to-many as there is only one technician designated to a certain region with multiple different kiosks. \n",
        "\n",
        "The slot table has a slot ID as the primary key which is unique for every slot location. The slot table also includes the kiosk ID as a foreign key to be linked to the kiosk table through a one-to-one relationship. Each kiosk has multiple slots that hold the movies to be rented, but a slot may only be assigned to one kiosk. The slot and movie relationship is one-to-one because only one movie can be in one slot at a time. \n",
        "\n",
        "The genre table’s primary key is Genre ID. This ID is unique for every genre. Its attributes include movie ID, genre type, date of creation, and date of most recent update. The movie ID’s relationship is many to many, where there can be many movies to many genres. Genre type is used to record the name of the movie genre. The date of creation and update date are both present to record tracking changes. \n",
        "\n",
        "The Movie table’s primary key is Movie ID. This ID is unique for every movie. The attributes for the movie table include: kiosk ID, slot ID, genre ID, title, screen time, release date, inventory, date of creation, and updated at. The kiosk ID has a zero to many relationship for kiosks to movies. This is because you can have an empty kiosk. The slot ID has a one to one relationship for slots to movies. Each slot can have only one movie. The genre ID has a many to many relationship for genres to movies. The title, screen time, and release date all provide metadata about the movie. Inventory is used to track the movies that are in the kiosk and the ones that are not. The created and update at are both present for tracking changes. \n",
        "\n",
        "The technician table includes a technician ID which acts as the unique identifier and primary key for each technician. The table also includes the first and last name of the technician as attributes.\n",
        "\n",
        "The customer tables primary key is Customer account email because each customer will sign in to their movie rental account through an email and a password. Its attributes include customer account email, customer account password, First name, last name, phone number, fees, movie ID, Rewards points, Created at, and updated at.\n",
        "\n",
        "The transaction tables primary key is transaction ID. Its attributes include kiosk ID, customer ID, movie ID, number of nights, payment method, payment amount, created at, and updated at. The Kiosk ID’s relationship is one to many, where there can be one kiosk for many transactions.\n"
      ]
    }
  ]
}